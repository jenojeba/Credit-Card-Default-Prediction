{
 "cells": [
  {
   "cell_type": "code",
   "execution_count": 1,
   "id": "7c98949c",
   "metadata": {
    "_cell_guid": "b1076dfc-b9ad-4769-8c92-a6c4dae69d19",
    "_uuid": "8f2839f25d086af736a60e9eeb907d3b93b6e0e5",
    "execution": {
     "iopub.execute_input": "2024-05-24T08:49:51.651553Z",
     "iopub.status.busy": "2024-05-24T08:49:51.651181Z",
     "iopub.status.idle": "2024-05-24T08:49:53.129838Z",
     "shell.execute_reply": "2024-05-24T08:49:53.128559Z"
    },
    "papermill": {
     "duration": 1.487226,
     "end_time": "2024-05-24T08:49:53.132515",
     "exception": false,
     "start_time": "2024-05-24T08:49:51.645289",
     "status": "completed"
    },
    "tags": []
   },
   "outputs": [],
   "source": [
    "import pandas as pd\n",
    "c=pd.read_csv('https://github.com/ybifoundation/Dataset/raw/main/Credit%20Default.csv')"
   ]
  },
  {
   "cell_type": "code",
   "execution_count": 2,
   "id": "dd387970",
   "metadata": {
    "execution": {
     "iopub.execute_input": "2024-05-24T08:49:53.142340Z",
     "iopub.status.busy": "2024-05-24T08:49:53.141908Z",
     "iopub.status.idle": "2024-05-24T08:49:53.169104Z",
     "shell.execute_reply": "2024-05-24T08:49:53.167922Z"
    },
    "papermill": {
     "duration": 0.034897,
     "end_time": "2024-05-24T08:49:53.171492",
     "exception": false,
     "start_time": "2024-05-24T08:49:53.136595",
     "status": "completed"
    },
    "tags": []
   },
   "outputs": [
    {
     "data": {
      "text/html": [
       "<div>\n",
       "<style scoped>\n",
       "    .dataframe tbody tr th:only-of-type {\n",
       "        vertical-align: middle;\n",
       "    }\n",
       "\n",
       "    .dataframe tbody tr th {\n",
       "        vertical-align: top;\n",
       "    }\n",
       "\n",
       "    .dataframe thead th {\n",
       "        text-align: right;\n",
       "    }\n",
       "</style>\n",
       "<table border=\"1\" class=\"dataframe\">\n",
       "  <thead>\n",
       "    <tr style=\"text-align: right;\">\n",
       "      <th></th>\n",
       "      <th>Income</th>\n",
       "      <th>Age</th>\n",
       "      <th>Loan</th>\n",
       "      <th>Loan to Income</th>\n",
       "      <th>Default</th>\n",
       "    </tr>\n",
       "  </thead>\n",
       "  <tbody>\n",
       "    <tr>\n",
       "      <th>0</th>\n",
       "      <td>66155.92510</td>\n",
       "      <td>59.017015</td>\n",
       "      <td>8106.532131</td>\n",
       "      <td>0.122537</td>\n",
       "      <td>0</td>\n",
       "    </tr>\n",
       "    <tr>\n",
       "      <th>1</th>\n",
       "      <td>34415.15397</td>\n",
       "      <td>48.117153</td>\n",
       "      <td>6564.745018</td>\n",
       "      <td>0.190752</td>\n",
       "      <td>0</td>\n",
       "    </tr>\n",
       "    <tr>\n",
       "      <th>2</th>\n",
       "      <td>57317.17006</td>\n",
       "      <td>63.108049</td>\n",
       "      <td>8020.953296</td>\n",
       "      <td>0.139940</td>\n",
       "      <td>0</td>\n",
       "    </tr>\n",
       "    <tr>\n",
       "      <th>3</th>\n",
       "      <td>42709.53420</td>\n",
       "      <td>45.751972</td>\n",
       "      <td>6103.642260</td>\n",
       "      <td>0.142911</td>\n",
       "      <td>0</td>\n",
       "    </tr>\n",
       "    <tr>\n",
       "      <th>4</th>\n",
       "      <td>66952.68885</td>\n",
       "      <td>18.584336</td>\n",
       "      <td>8770.099235</td>\n",
       "      <td>0.130990</td>\n",
       "      <td>1</td>\n",
       "    </tr>\n",
       "  </tbody>\n",
       "</table>\n",
       "</div>"
      ],
      "text/plain": [
       "        Income        Age         Loan  Loan to Income  Default\n",
       "0  66155.92510  59.017015  8106.532131        0.122537        0\n",
       "1  34415.15397  48.117153  6564.745018        0.190752        0\n",
       "2  57317.17006  63.108049  8020.953296        0.139940        0\n",
       "3  42709.53420  45.751972  6103.642260        0.142911        0\n",
       "4  66952.68885  18.584336  8770.099235        0.130990        1"
      ]
     },
     "execution_count": 2,
     "metadata": {},
     "output_type": "execute_result"
    }
   ],
   "source": [
    "c.head()"
   ]
  },
  {
   "cell_type": "code",
   "execution_count": 3,
   "id": "af075298",
   "metadata": {
    "execution": {
     "iopub.execute_input": "2024-05-24T08:49:53.181903Z",
     "iopub.status.busy": "2024-05-24T08:49:53.180875Z",
     "iopub.status.idle": "2024-05-24T08:49:53.188603Z",
     "shell.execute_reply": "2024-05-24T08:49:53.187463Z"
    },
    "papermill": {
     "duration": 0.015232,
     "end_time": "2024-05-24T08:49:53.191035",
     "exception": false,
     "start_time": "2024-05-24T08:49:53.175803",
     "status": "completed"
    },
    "tags": []
   },
   "outputs": [
    {
     "data": {
      "text/plain": [
       "Index(['Income', 'Age', 'Loan', 'Loan to Income', 'Default'], dtype='object')"
      ]
     },
     "execution_count": 3,
     "metadata": {},
     "output_type": "execute_result"
    }
   ],
   "source": [
    "c.columns"
   ]
  },
  {
   "cell_type": "code",
   "execution_count": 4,
   "id": "83fa19d0",
   "metadata": {
    "execution": {
     "iopub.execute_input": "2024-05-24T08:49:53.201663Z",
     "iopub.status.busy": "2024-05-24T08:49:53.201257Z",
     "iopub.status.idle": "2024-05-24T08:49:53.215676Z",
     "shell.execute_reply": "2024-05-24T08:49:53.214539Z"
    },
    "papermill": {
     "duration": 0.023171,
     "end_time": "2024-05-24T08:49:53.218377",
     "exception": false,
     "start_time": "2024-05-24T08:49:53.195206",
     "status": "completed"
    },
    "tags": []
   },
   "outputs": [],
   "source": [
    "y=c['Default']\n",
    "X=c[['Income', 'Age', 'Loan', 'Loan to Income']]"
   ]
  },
  {
   "cell_type": "code",
   "execution_count": 5,
   "id": "f6bde041",
   "metadata": {
    "execution": {
     "iopub.execute_input": "2024-05-24T08:49:53.228521Z",
     "iopub.status.busy": "2024-05-24T08:49:53.228008Z",
     "iopub.status.idle": "2024-05-24T08:49:54.781234Z",
     "shell.execute_reply": "2024-05-24T08:49:54.779729Z"
    },
    "papermill": {
     "duration": 1.561565,
     "end_time": "2024-05-24T08:49:54.784073",
     "exception": false,
     "start_time": "2024-05-24T08:49:53.222508",
     "status": "completed"
    },
    "tags": []
   },
   "outputs": [],
   "source": [
    "from sklearn.model_selection import train_test_split\n",
    "X_train,X_test,y_train,y_test=train_test_split(X,y,train_size=0.7,random_state=42)"
   ]
  },
  {
   "cell_type": "code",
   "execution_count": 6,
   "id": "95b50a6e",
   "metadata": {
    "execution": {
     "iopub.execute_input": "2024-05-24T08:49:54.794292Z",
     "iopub.status.busy": "2024-05-24T08:49:54.793912Z",
     "iopub.status.idle": "2024-05-24T08:49:54.912264Z",
     "shell.execute_reply": "2024-05-24T08:49:54.910992Z"
    },
    "papermill": {
     "duration": 0.126651,
     "end_time": "2024-05-24T08:49:54.914938",
     "exception": false,
     "start_time": "2024-05-24T08:49:54.788287",
     "status": "completed"
    },
    "tags": []
   },
   "outputs": [],
   "source": [
    "from sklearn.linear_model import LogisticRegression\n",
    "model=LogisticRegression()"
   ]
  },
  {
   "cell_type": "code",
   "execution_count": 7,
   "id": "479005f3",
   "metadata": {
    "execution": {
     "iopub.execute_input": "2024-05-24T08:49:54.924828Z",
     "iopub.status.busy": "2024-05-24T08:49:54.924393Z",
     "iopub.status.idle": "2024-05-24T08:49:54.956824Z",
     "shell.execute_reply": "2024-05-24T08:49:54.955334Z"
    },
    "papermill": {
     "duration": 0.04312,
     "end_time": "2024-05-24T08:49:54.962046",
     "exception": false,
     "start_time": "2024-05-24T08:49:54.918926",
     "status": "completed"
    },
    "tags": []
   },
   "outputs": [
    {
     "data": {
      "text/html": [
       "<style>#sk-container-id-1 {color: black;background-color: white;}#sk-container-id-1 pre{padding: 0;}#sk-container-id-1 div.sk-toggleable {background-color: white;}#sk-container-id-1 label.sk-toggleable__label {cursor: pointer;display: block;width: 100%;margin-bottom: 0;padding: 0.3em;box-sizing: border-box;text-align: center;}#sk-container-id-1 label.sk-toggleable__label-arrow:before {content: \"▸\";float: left;margin-right: 0.25em;color: #696969;}#sk-container-id-1 label.sk-toggleable__label-arrow:hover:before {color: black;}#sk-container-id-1 div.sk-estimator:hover label.sk-toggleable__label-arrow:before {color: black;}#sk-container-id-1 div.sk-toggleable__content {max-height: 0;max-width: 0;overflow: hidden;text-align: left;background-color: #f0f8ff;}#sk-container-id-1 div.sk-toggleable__content pre {margin: 0.2em;color: black;border-radius: 0.25em;background-color: #f0f8ff;}#sk-container-id-1 input.sk-toggleable__control:checked~div.sk-toggleable__content {max-height: 200px;max-width: 100%;overflow: auto;}#sk-container-id-1 input.sk-toggleable__control:checked~label.sk-toggleable__label-arrow:before {content: \"▾\";}#sk-container-id-1 div.sk-estimator input.sk-toggleable__control:checked~label.sk-toggleable__label {background-color: #d4ebff;}#sk-container-id-1 div.sk-label input.sk-toggleable__control:checked~label.sk-toggleable__label {background-color: #d4ebff;}#sk-container-id-1 input.sk-hidden--visually {border: 0;clip: rect(1px 1px 1px 1px);clip: rect(1px, 1px, 1px, 1px);height: 1px;margin: -1px;overflow: hidden;padding: 0;position: absolute;width: 1px;}#sk-container-id-1 div.sk-estimator {font-family: monospace;background-color: #f0f8ff;border: 1px dotted black;border-radius: 0.25em;box-sizing: border-box;margin-bottom: 0.5em;}#sk-container-id-1 div.sk-estimator:hover {background-color: #d4ebff;}#sk-container-id-1 div.sk-parallel-item::after {content: \"\";width: 100%;border-bottom: 1px solid gray;flex-grow: 1;}#sk-container-id-1 div.sk-label:hover label.sk-toggleable__label {background-color: #d4ebff;}#sk-container-id-1 div.sk-serial::before {content: \"\";position: absolute;border-left: 1px solid gray;box-sizing: border-box;top: 0;bottom: 0;left: 50%;z-index: 0;}#sk-container-id-1 div.sk-serial {display: flex;flex-direction: column;align-items: center;background-color: white;padding-right: 0.2em;padding-left: 0.2em;position: relative;}#sk-container-id-1 div.sk-item {position: relative;z-index: 1;}#sk-container-id-1 div.sk-parallel {display: flex;align-items: stretch;justify-content: center;background-color: white;position: relative;}#sk-container-id-1 div.sk-item::before, #sk-container-id-1 div.sk-parallel-item::before {content: \"\";position: absolute;border-left: 1px solid gray;box-sizing: border-box;top: 0;bottom: 0;left: 50%;z-index: -1;}#sk-container-id-1 div.sk-parallel-item {display: flex;flex-direction: column;z-index: 1;position: relative;background-color: white;}#sk-container-id-1 div.sk-parallel-item:first-child::after {align-self: flex-end;width: 50%;}#sk-container-id-1 div.sk-parallel-item:last-child::after {align-self: flex-start;width: 50%;}#sk-container-id-1 div.sk-parallel-item:only-child::after {width: 0;}#sk-container-id-1 div.sk-dashed-wrapped {border: 1px dashed gray;margin: 0 0.4em 0.5em 0.4em;box-sizing: border-box;padding-bottom: 0.4em;background-color: white;}#sk-container-id-1 div.sk-label label {font-family: monospace;font-weight: bold;display: inline-block;line-height: 1.2em;}#sk-container-id-1 div.sk-label-container {text-align: center;}#sk-container-id-1 div.sk-container {/* jupyter's `normalize.less` sets `[hidden] { display: none; }` but bootstrap.min.css set `[hidden] { display: none !important; }` so we also need the `!important` here to be able to override the default hidden behavior on the sphinx rendered scikit-learn.org. See: https://github.com/scikit-learn/scikit-learn/issues/21755 */display: inline-block !important;position: relative;}#sk-container-id-1 div.sk-text-repr-fallback {display: none;}</style><div id=\"sk-container-id-1\" class=\"sk-top-container\"><div class=\"sk-text-repr-fallback\"><pre>LogisticRegression()</pre><b>In a Jupyter environment, please rerun this cell to show the HTML representation or trust the notebook. <br />On GitHub, the HTML representation is unable to render, please try loading this page with nbviewer.org.</b></div><div class=\"sk-container\" hidden><div class=\"sk-item\"><div class=\"sk-estimator sk-toggleable\"><input class=\"sk-toggleable__control sk-hidden--visually\" id=\"sk-estimator-id-1\" type=\"checkbox\" checked><label for=\"sk-estimator-id-1\" class=\"sk-toggleable__label sk-toggleable__label-arrow\">LogisticRegression</label><div class=\"sk-toggleable__content\"><pre>LogisticRegression()</pre></div></div></div></div></div>"
      ],
      "text/plain": [
       "LogisticRegression()"
      ]
     },
     "execution_count": 7,
     "metadata": {},
     "output_type": "execute_result"
    }
   ],
   "source": [
    "model.fit(X_train,y_train)"
   ]
  },
  {
   "cell_type": "code",
   "execution_count": 8,
   "id": "db85c576",
   "metadata": {
    "execution": {
     "iopub.execute_input": "2024-05-24T08:49:54.972839Z",
     "iopub.status.busy": "2024-05-24T08:49:54.972170Z",
     "iopub.status.idle": "2024-05-24T08:49:54.979464Z",
     "shell.execute_reply": "2024-05-24T08:49:54.978557Z"
    },
    "papermill": {
     "duration": 0.015354,
     "end_time": "2024-05-24T08:49:54.981811",
     "exception": false,
     "start_time": "2024-05-24T08:49:54.966457",
     "status": "completed"
    },
    "tags": []
   },
   "outputs": [],
   "source": [
    "y_pred = model.predict(X_test)"
   ]
  },
  {
   "cell_type": "code",
   "execution_count": 9,
   "id": "c5bc7c9b",
   "metadata": {
    "execution": {
     "iopub.execute_input": "2024-05-24T08:49:54.992874Z",
     "iopub.status.busy": "2024-05-24T08:49:54.992236Z",
     "iopub.status.idle": "2024-05-24T08:49:54.997257Z",
     "shell.execute_reply": "2024-05-24T08:49:54.995737Z"
    },
    "papermill": {
     "duration": 0.013733,
     "end_time": "2024-05-24T08:49:54.999956",
     "exception": false,
     "start_time": "2024-05-24T08:49:54.986223",
     "status": "completed"
    },
    "tags": []
   },
   "outputs": [],
   "source": [
    "from sklearn.metrics import confusion_matrix, accuracy_score, classification_report"
   ]
  },
  {
   "cell_type": "code",
   "execution_count": 10,
   "id": "c4123e24",
   "metadata": {
    "execution": {
     "iopub.execute_input": "2024-05-24T08:49:55.011044Z",
     "iopub.status.busy": "2024-05-24T08:49:55.010018Z",
     "iopub.status.idle": "2024-05-24T08:49:55.020513Z",
     "shell.execute_reply": "2024-05-24T08:49:55.018523Z"
    },
    "papermill": {
     "duration": 0.019622,
     "end_time": "2024-05-24T08:49:55.023884",
     "exception": false,
     "start_time": "2024-05-24T08:49:55.004262",
     "status": "completed"
    },
    "tags": []
   },
   "outputs": [
    {
     "data": {
      "text/plain": [
       "array([[496,  12],\n",
       "       [ 43,  49]])"
      ]
     },
     "execution_count": 10,
     "metadata": {},
     "output_type": "execute_result"
    }
   ],
   "source": [
    "confusion_matrix(y_test,y_pred)"
   ]
  },
  {
   "cell_type": "code",
   "execution_count": 11,
   "id": "2e4c8855",
   "metadata": {
    "execution": {
     "iopub.execute_input": "2024-05-24T08:49:55.035567Z",
     "iopub.status.busy": "2024-05-24T08:49:55.035131Z",
     "iopub.status.idle": "2024-05-24T08:49:55.047976Z",
     "shell.execute_reply": "2024-05-24T08:49:55.046190Z"
    },
    "papermill": {
     "duration": 0.023114,
     "end_time": "2024-05-24T08:49:55.051700",
     "exception": false,
     "start_time": "2024-05-24T08:49:55.028586",
     "status": "completed"
    },
    "tags": []
   },
   "outputs": [
    {
     "data": {
      "text/plain": [
       "0.9083333333333333"
      ]
     },
     "execution_count": 11,
     "metadata": {},
     "output_type": "execute_result"
    }
   ],
   "source": [
    "accuracy_score(y_test,y_pred)"
   ]
  },
  {
   "cell_type": "code",
   "execution_count": 12,
   "id": "86969f80",
   "metadata": {
    "execution": {
     "iopub.execute_input": "2024-05-24T08:49:55.062507Z",
     "iopub.status.busy": "2024-05-24T08:49:55.062110Z",
     "iopub.status.idle": "2024-05-24T08:49:55.079032Z",
     "shell.execute_reply": "2024-05-24T08:49:55.077471Z"
    },
    "papermill": {
     "duration": 0.025161,
     "end_time": "2024-05-24T08:49:55.081480",
     "exception": false,
     "start_time": "2024-05-24T08:49:55.056319",
     "status": "completed"
    },
    "tags": []
   },
   "outputs": [
    {
     "name": "stdout",
     "output_type": "stream",
     "text": [
      "              precision    recall  f1-score   support\n",
      "\n",
      "           0       0.92      0.98      0.95       508\n",
      "           1       0.80      0.53      0.64        92\n",
      "\n",
      "    accuracy                           0.91       600\n",
      "   macro avg       0.86      0.75      0.79       600\n",
      "weighted avg       0.90      0.91      0.90       600\n",
      "\n"
     ]
    }
   ],
   "source": [
    "print(classification_report(y_test,y_pred))"
   ]
  }
 ],
 "metadata": {
  "kaggle": {
   "accelerator": "none",
   "dataSources": [
    {
     "datasetId": 1966610,
     "sourceId": 3244803,
     "sourceType": "datasetVersion"
    }
   ],
   "dockerImageVersionId": 30698,
   "isGpuEnabled": false,
   "isInternetEnabled": true,
   "language": "python",
   "sourceType": "notebook"
  },
  "kernelspec": {
   "display_name": "Python 3",
   "language": "python",
   "name": "python3"
  },
  "language_info": {
   "codemirror_mode": {
    "name": "ipython",
    "version": 3
   },
   "file_extension": ".py",
   "mimetype": "text/x-python",
   "name": "python",
   "nbconvert_exporter": "python",
   "pygments_lexer": "ipython3",
   "version": "3.10.13"
  },
  "papermill": {
   "default_parameters": {},
   "duration": 7.038849,
   "end_time": "2024-05-24T08:49:55.707554",
   "environment_variables": {},
   "exception": null,
   "input_path": "__notebook__.ipynb",
   "output_path": "__notebook__.ipynb",
   "parameters": {},
   "start_time": "2024-05-24T08:49:48.668705",
   "version": "2.5.0"
  }
 },
 "nbformat": 4,
 "nbformat_minor": 5
}
